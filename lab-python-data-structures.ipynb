{
 "cells": [
  {
   "cell_type": "markdown",
   "metadata": {
    "tags": []
   },
   "source": [
    "# Lab | Data Structures "
   ]
  },
  {
   "cell_type": "markdown",
   "metadata": {},
   "source": [
    "## Exercise: Managing Customer Orders\n",
    "\n",
    "As part of a business venture, you are starting an online store that sells various products. To ensure smooth operations, you need to develop a program that manages customer orders and inventory.\n",
    "\n",
    "Follow the steps below to complete the exercise:\n",
    "\n",
    "Solve the exercise by implementing the steps using the Python concepts of lists, dictionaries, sets, and basic input/output operations. "
   ]
  },
  {
   "cell_type": "code",
   "execution_count": null,
   "metadata": {},
   "outputs": [],
   "source": [
    "#1. Define a list called `products` that contains the following items: \"t-shirt\", \"mug\", \"hat\", \"book\", \"keychain\".\n",
    "products = [\"t-shirt\", \"mug\", \"hat\", \"book\", \"keychain\"]"
   ]
  },
  {
   "cell_type": "code",
   "execution_count": null,
   "metadata": {},
   "outputs": [],
   "source": [
    "#2. Create an empty dictionary called `inventory`.\n",
    "inventory = {}"
   ]
  },
  {
   "cell_type": "code",
   "execution_count": null,
   "metadata": {},
   "outputs": [],
   "source": [
    "#3.Ask the user to input the quantity of each product available in the inventory. \n",
    "# Use the product names from the `products` list as keys in the `inventory` dictionary and assign the respective quantities as values.\n",
    "\n",
    "inventory[\"t-shirt\"] = int(input(\"Enter the quantity for t-shirt: \"))\n",
    "inventory[\"mug\"] = int(input(\"Enter the quantity for mug: \"))\n",
    "inventory[\"hat\"] = int(input(\"Enter the quantity for hat: \"))\n",
    "inventory[\"book\"] = int(input(\"Enter the quantity for book: \"))\n",
    "inventory[\"keychain\"] = int(input(\"Enter the quantity for keychain: \"))\n",
    "print(inventory)\n",
    "\n",
    "\n",
    "# for product in products:\n",
    "#   inventory[product] = int(input(f\"Enter the quantity for {product}: \"))\n",
    "# print(inventory)\n"
   ]
  },
  {
   "cell_type": "code",
   "execution_count": null,
   "metadata": {},
   "outputs": [],
   "source": [
    "#4. Create an empty set called `customer_orders`.\n",
    "customer_orders = set()"
   ]
  },
  {
   "cell_type": "code",
   "execution_count": null,
   "metadata": {},
   "outputs": [],
   "source": [
    "#5. Ask the user to input the name of three products that a customer wants to order \n",
    "# (from those in the products list, meaning three products out of \"t-shirt\", \"mug\", \"hat\", \"book\" or \"keychain\". \n",
    "# Add each product name to the `customer_orders` set.\n",
    "\n",
    "product_name = input(\"Enter the name of 1 you want to order\")\n",
    "customer_orders.add(product_name)\n",
    "product_name = input(\"Enter the name of 1 you want to order\")\n",
    "customer_orders.add(product_name)\n",
    "product_name = input(\"Enter the name of 1 you want to order\")\n",
    "customer_orders.add(product_name)\n",
    "#6. Print the products in the `customer_orders` set.\n",
    "print(customer_orders)\n",
    "\n",
    "# for i in range(3):\n",
    "#   product = input(\"Enter the name of a product: \")\n",
    "#   customer_orders.add(product)\n",
    "#6. Print the products in the `customer_orders` set.\n",
    "# print(customer_orders)"
   ]
  },
  {
   "cell_type": "code",
   "execution_count": null,
   "metadata": {},
   "outputs": [],
   "source": [
    "#7. Calculate the following order statistics:\n",
    "#    - Total Products Ordered: The total number of products in the `customer_orders` set.\n",
    "#    - Percentage of Products Ordered: The percentage of products ordered compared to the total available products.\n",
    "   \n",
    "#    Store these statistics in a tuple called `order_status`.\n",
    "\n",
    "total_products_ordered = len(customer_orders)\n",
    "print(f\"Total Products Ordered: {total_products_ordered}\")\n",
    "\n",
    "total_available_products = sum(inventory.values())\n",
    "percentage_ordered = (total_products_ordered / total_available_products) * 100\n",
    "print(f\"Percentage of Products Ordered: {percentage_ordered}%\")\n",
    "\n",
    "# percentage_ordered = (total_products_ordered / len(products)) * 100\n",
    "# print(f\"Percentage of Products Ordered: {percentage_ordered}%\")"
   ]
  },
  {
   "cell_type": "code",
   "execution_count": null,
   "metadata": {},
   "outputs": [],
   "source": [
    "#8. Print the order statistics using the following format:\n",
    "#    ```\n",
    "#    Order Statistics:\n",
    "#    Total Products Ordered: <total_products_ordered>\n",
    "#    Percentage of Products Ordered: <percentage_ordered>% \n",
    "#    ```\n",
    "\n",
    "print(\"Order Statistics:\")\n",
    "print(f\"Total Products Ordered: {total_products_ordered }\")\n",
    "print(f\"Percentage of Products Ordered: {percentage_ordered}\")"
   ]
  },
  {
   "cell_type": "code",
   "execution_count": null,
   "metadata": {},
   "outputs": [],
   "source": [
    "#9. Update the inventory by subtracting 1 from the quantity of each product. Modify the `inventory` dictionary accordingly.\n",
    "\n",
    "def update_inventory(inventory, customer_orders):\n",
    "  for product in customer_orders:\n",
    "    if product in inventory:\n",
    "      inventory[product] -= 1\n",
    "  return inventory\n",
    "\n",
    "inventory = update_inventory(inventory, customer_orders)"
   ]
  },
  {
   "cell_type": "code",
   "execution_count": null,
   "metadata": {},
   "outputs": [],
   "source": [
    "#10. Print the updated inventory, displaying the quantity of each product on separate lines.\n",
    "\n",
    "print(\"\\nUpdated Inventory:\")\n",
    "for product, quantity in inventory.items():\n",
    "    print(f\"{product}: {quantity}\")"
   ]
  }
 ],
 "metadata": {
  "kernelspec": {
   "display_name": "Python 3 (ipykernel)",
   "language": "python",
   "name": "python3"
  },
  "language_info": {
   "codemirror_mode": {
    "name": "ipython",
    "version": 3
   },
   "file_extension": ".py",
   "mimetype": "text/x-python",
   "name": "python",
   "nbconvert_exporter": "python",
   "pygments_lexer": "ipython3",
   "version": "3.12.0"
  }
 },
 "nbformat": 4,
 "nbformat_minor": 4
}
